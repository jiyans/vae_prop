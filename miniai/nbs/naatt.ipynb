{
 "cells": [
  {
   "cell_type": "markdown",
   "id": "241d7d15",
   "metadata": {},
   "source": [
    "##### ⍳"
   ]
  },
  {
   "cell_type": "code",
   "execution_count": null,
   "id": "f567fc8f",
   "metadata": {},
   "outputs": [],
   "source": [
    "'\n"
   ]
  }
 ],
 "metadata": {
  "kernelspec": {
   "display_name": "Dyalog APL",
   "language": "apl",
   "name": "emacs"
  },
  "language_info": {
   "file_extension": ".apl",
   "mimetype": "text/apl",
   "name": "APL"
  }
 },
 "nbformat": 4,
 "nbformat_minor": 5
}
